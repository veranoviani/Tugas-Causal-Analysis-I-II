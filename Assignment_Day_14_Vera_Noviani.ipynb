{
  "nbformat": 4,
  "nbformat_minor": 0,
  "metadata": {
    "colab": {
      "name": "Assignment Day 14 - Vera Noviani.ipynb",
      "provenance": [],
      "toc_visible": true,
      "authorship_tag": "ABX9TyNy3GNtUyzHMS1e1CSWl3Qa",
      "include_colab_link": true
    },
    "kernelspec": {
      "name": "python3",
      "display_name": "Python 3"
    },
    "language_info": {
      "name": "python"
    }
  },
  "cells": [
    {
      "cell_type": "markdown",
      "metadata": {
        "id": "view-in-github",
        "colab_type": "text"
      },
      "source": [
        "<a href=\"https://colab.research.google.com/github/veranoviani/Tugas-Causal-Analysis-I-II/blob/main/Assignment_Day_14_Vera_Noviani.ipynb\" target=\"_parent\"><img src=\"https://colab.research.google.com/assets/colab-badge.svg\" alt=\"Open In Colab\"/></a>"
      ]
    },
    {
      "cell_type": "markdown",
      "source": [
        "# CAUSAL ANALYSIS I & II - BASIC\n",
        "\n"
      ],
      "metadata": {
        "id": "C19XMNi3dY0r"
      }
    },
    {
      "cell_type": "markdown",
      "source": [
        "# No 1\n",
        "\n",
        "\n",
        "Karena matching biasanya digunakan untuk menyeimbangkan atau menyamakan kelompok subjek penelitian. Dengan metode ini kelompok treatment dipasangkan dengan kelompok non-treatment berdasarkan kovariat yang diamati. Metode ini digunakan untuk mengurangi bias dalam estimasi efek perlakuan pada data yang bersifat observasi karena adanya faktor confounding. Di tambah menurut Yanovitzky, Zanutto, & Hornik (2005) proses matching dapat mengurangi kelompok control yang tidak memiliki pasangan, sehingga ada beberapa data yang bahkan tidak digunakan sama sekali karena tidak memilliki nilai yang cocok dengan data pada kelompok control."
      ],
      "metadata": {
        "id": "S7dGR2WEdnA5"
      }
    },
    {
      "cell_type": "markdown",
      "source": [
        "# No 2\n",
        "\n",
        "Dalam penggunaan Double Selection kita tidak bisa mengetahui variabel yang terseleksi tersebut adalah variabel eksogen atau variabel yang berhubungan dengan variabel lainnya. Selain itu dalam penggunaan double selection jika data berdimensi tinggi akan terjadi bias dalam hasil pengukuran treatment. Sementara dalam penggunaan Double Machine Learning permasalahan seperti data berdimensi tinggi dapat teratasi karena kekuatan prediksi dari machine learning yang mampu mempelajari pola pada data dan dapat mencegah terjadinya bias bahkan ketika terdapat cofounder yang tidak dapat terukur\n",
        "\n",
        "sumber : (http://qed.econ.queensu.ca/pub/faculty/mackinnon/econ882/slides/econ882-slides-20h.pdf)"
      ],
      "metadata": {
        "id": "OaYlsmzEdrxK"
      }
    },
    {
      "cell_type": "markdown",
      "source": [
        "# No 3\n",
        "\n",
        "Pengunaan ATE (Average Treatment Effect) digunakan saat kondisi treatment pada dua kelompok saling independent. Memenuhi asumsi SUTVA (Stable Unit Treatment Value Assumption) atau ketika satu kelompok diberi treatment maka hasilnya tidak beda jauh pada satu kelompok tersebut. Serta hanya terdapat 1 jenis treatment dan digunakan untuk tingkat sub-group\n",
        " \n",
        "\n",
        "Penggunaan CATE (Conditional Average Treatment Effet) digunakan ketika SUTVA tidak terpenuhi dan terdapat perbedaan hasil treatment pada 1 group serta digunakan untuk tingkat sub dalam sub-gorup.\n",
        "\n",
        "\n",
        "Penggunaan LATE (Local Average Treatment Effect) digunakan untuk mengukur effect treatment pada level individu dalam group\n",
        "sumber selan itu terdapat asumsi treatment homogen ketika instrumental variable begitu lemah"
      ],
      "metadata": {
        "id": "yHxmr7jxgkNb"
      }
    },
    {
      "cell_type": "markdown",
      "source": [
        "# No 4\n",
        "\n",
        "Menurut saya metode yang lebih baik untuk menjelaskan dampak dari akibat adalah interpretable machine learning. Metode interpretable machine learning dapat digunakan untuk analisis kausal ketika ingin menjelaskan counterfactual model.\n",
        "\n",
        "sumber : (https://christophm.github.io/interpretable-ml-book/interpretability-importance.html)"
      ],
      "metadata": {
        "id": "IrqSiXIKHLl7"
      }
    },
    {
      "cell_type": "markdown",
      "source": [
        "# CAUSAL ANALYSIS I & II - ADVANCED"
      ],
      "metadata": {
        "id": "UuK6ZfeWQPoT"
      }
    },
    {
      "cell_type": "code",
      "execution_count": 2,
      "metadata": {
        "colab": {
          "base_uri": "https://localhost:8080/"
        },
        "id": "Kfh8Ay2hyMk2",
        "outputId": "4ebd31d6-e267-4de8-8a3f-fe5ab4db10da"
      },
      "outputs": [
        {
          "output_type": "stream",
          "name": "stdout",
          "text": [
            "Looking in indexes: https://pypi.org/simple, https://us-python.pkg.dev/colab-wheels/public/simple/\n",
            "Collecting econml\n",
            "  Downloading econml-0.13.1-cp37-cp37m-manylinux_2_17_x86_64.manylinux2014_x86_64.whl (3.3 MB)\n",
            "\u001b[K     |████████████████████████████████| 3.3 MB 5.3 MB/s \n",
            "\u001b[?25hCollecting sparse\n",
            "  Downloading sparse-0.13.0-py2.py3-none-any.whl (77 kB)\n",
            "\u001b[K     |████████████████████████████████| 77 kB 5.5 MB/s \n",
            "\u001b[?25hRequirement already satisfied: numpy in /usr/local/lib/python3.7/dist-packages (from econml) (1.21.6)\n",
            "Collecting shap<0.41.0,>=0.38.1\n",
            "  Downloading shap-0.40.0-cp37-cp37m-manylinux2010_x86_64.whl (564 kB)\n",
            "\u001b[K     |████████████████████████████████| 564 kB 48.9 MB/s \n",
            "\u001b[?25hRequirement already satisfied: joblib>=0.13.0 in /usr/local/lib/python3.7/dist-packages (from econml) (1.1.0)\n",
            "Requirement already satisfied: scipy>1.4.0 in /usr/local/lib/python3.7/dist-packages (from econml) (1.5.4)\n",
            "Requirement already satisfied: statsmodels>=0.10 in /usr/local/lib/python3.7/dist-packages (from econml) (0.10.2)\n",
            "Requirement already satisfied: scikit-learn<1.2,>0.22.0 in /usr/local/lib/python3.7/dist-packages (from econml) (1.0.2)\n",
            "Collecting dowhy<0.8\n",
            "  Downloading dowhy-0.7.1-py3-none-any.whl (164 kB)\n",
            "\u001b[K     |████████████████████████████████| 164 kB 43.5 MB/s \n",
            "\u001b[?25hRequirement already satisfied: lightgbm in /usr/local/lib/python3.7/dist-packages (from econml) (2.2.3)\n",
            "Requirement already satisfied: pandas in /usr/local/lib/python3.7/dist-packages (from econml) (1.3.5)\n",
            "Requirement already satisfied: networkx>=2.0 in /usr/local/lib/python3.7/dist-packages (from dowhy<0.8->econml) (2.6.3)\n",
            "Requirement already satisfied: sympy>=1.4 in /usr/local/lib/python3.7/dist-packages (from dowhy<0.8->econml) (1.7.1)\n",
            "Collecting pydot>=1.4\n",
            "  Downloading pydot-1.4.2-py2.py3-none-any.whl (21 kB)\n",
            "Requirement already satisfied: pytz>=2017.3 in /usr/local/lib/python3.7/dist-packages (from pandas->econml) (2022.1)\n",
            "Requirement already satisfied: python-dateutil>=2.7.3 in /usr/local/lib/python3.7/dist-packages (from pandas->econml) (2.8.2)\n",
            "Requirement already satisfied: pyparsing>=2.1.4 in /usr/local/lib/python3.7/dist-packages (from pydot>=1.4->dowhy<0.8->econml) (3.0.9)\n",
            "Requirement already satisfied: six>=1.5 in /usr/local/lib/python3.7/dist-packages (from python-dateutil>=2.7.3->pandas->econml) (1.15.0)\n",
            "Requirement already satisfied: threadpoolctl>=2.0.0 in /usr/local/lib/python3.7/dist-packages (from scikit-learn<1.2,>0.22.0->econml) (3.1.0)\n",
            "Collecting slicer==0.0.7\n",
            "  Downloading slicer-0.0.7-py3-none-any.whl (14 kB)\n",
            "Requirement already satisfied: numba in /usr/local/lib/python3.7/dist-packages (from shap<0.41.0,>=0.38.1->econml) (0.51.2)\n",
            "Requirement already satisfied: cloudpickle in /usr/local/lib/python3.7/dist-packages (from shap<0.41.0,>=0.38.1->econml) (1.3.0)\n",
            "Requirement already satisfied: packaging>20.9 in /usr/local/lib/python3.7/dist-packages (from shap<0.41.0,>=0.38.1->econml) (21.3)\n",
            "Requirement already satisfied: tqdm>4.25.0 in /usr/local/lib/python3.7/dist-packages (from shap<0.41.0,>=0.38.1->econml) (4.64.0)\n",
            "Requirement already satisfied: patsy>=0.4.0 in /usr/local/lib/python3.7/dist-packages (from statsmodels>=0.10->econml) (0.5.2)\n",
            "Requirement already satisfied: mpmath>=0.19 in /usr/local/lib/python3.7/dist-packages (from sympy>=1.4->dowhy<0.8->econml) (1.2.1)\n",
            "Requirement already satisfied: setuptools in /usr/local/lib/python3.7/dist-packages (from numba->shap<0.41.0,>=0.38.1->econml) (57.4.0)\n",
            "Requirement already satisfied: llvmlite<0.35,>=0.34.0.dev0 in /usr/local/lib/python3.7/dist-packages (from numba->shap<0.41.0,>=0.38.1->econml) (0.34.0)\n",
            "Installing collected packages: slicer, pydot, sparse, shap, dowhy, econml\n",
            "  Attempting uninstall: pydot\n",
            "    Found existing installation: pydot 1.3.0\n",
            "    Uninstalling pydot-1.3.0:\n",
            "      Successfully uninstalled pydot-1.3.0\n",
            "Successfully installed dowhy-0.7.1 econml-0.13.1 pydot-1.4.2 shap-0.40.0 slicer-0.0.7 sparse-0.13.0\n"
          ]
        }
      ],
      "source": [
        "!pip install econml"
      ]
    },
    {
      "cell_type": "code",
      "source": [
        "# data exploration package\n",
        "import numpy as np\n",
        "import pandas as pd\n",
        "import pandas as pd\n",
        "import numpy as np\n",
        "from matplotlib import pyplot as plt\n",
        "import seaborn as sns\n",
        "\n",
        "# scikit learn\n",
        "from sklearn.linear_model import ElasticNetCV, LinearRegression\n",
        "from sklearn.ensemble import GradientBoostingRegressor, RandomForestRegressor, RandomForestClassifier\n",
        "from sklearn.tree import DecisionTreeRegressor\n",
        "from sklearn.tree import DecisionTreeClassifier\n",
        "\n",
        "# econml\n",
        "from econml.dml import DML\n",
        "from econml.metalearners import TLearner, SLearner, XLearner"
      ],
      "metadata": {
        "id": "OwxkXf8UyUUt",
        "colab": {
          "base_uri": "https://localhost:8080/"
        },
        "outputId": "69a50ccd-ceaf-4769-f112-c026470887c4"
      },
      "execution_count": 3,
      "outputs": [
        {
          "output_type": "stream",
          "name": "stderr",
          "text": [
            "/usr/local/lib/python3.7/dist-packages/statsmodels/tools/_testing.py:19: FutureWarning: pandas.util.testing is deprecated. Use the functions in the public API at pandas.testing instead.\n",
            "  import pandas.util.testing as tm\n"
          ]
        }
      ]
    },
    {
      "cell_type": "code",
      "source": [
        "df= pd.read_csv(\"https://raw.githubusercontent.com/hadimaster65555/dataset_for_teaching/main/dataset/learning_mindset/learning_mindset.csv\")"
      ],
      "metadata": {
        "id": "S8YzXwuRyhlS"
      },
      "execution_count": 4,
      "outputs": []
    },
    {
      "cell_type": "code",
      "source": [
        "df.head()"
      ],
      "metadata": {
        "colab": {
          "base_uri": "https://localhost:8080/",
          "height": 270
        },
        "id": "pwtddZuXyyEr",
        "outputId": "583ab2e2-4721-4985-ba11-fe415894b784"
      },
      "execution_count": 5,
      "outputs": [
        {
          "output_type": "execute_result",
          "data": {
            "text/plain": [
              "   schoolid  intervention  achievement_score  success_expect  ethnicity  \\\n",
              "0        76             1           0.277359               6          4   \n",
              "1        76             1          -0.449646               4         12   \n",
              "2        76             1           0.769703               6          4   \n",
              "3        76             1          -0.121763               6          4   \n",
              "4        76             1           1.526147               6          4   \n",
              "\n",
              "   gender  frst_in_family  school_urbanicity  school_mindset  \\\n",
              "0       2               1                  4        0.334544   \n",
              "1       2               1                  4        0.334544   \n",
              "2       2               0                  4        0.334544   \n",
              "3       2               0                  4        0.334544   \n",
              "4       1               0                  4        0.334544   \n",
              "\n",
              "   school_achievement  school_ethnic_minority  school_poverty  school_size  \n",
              "0            0.648586               -1.310927        0.224077    -0.426757  \n",
              "1            0.648586               -1.310927        0.224077    -0.426757  \n",
              "2            0.648586               -1.310927        0.224077    -0.426757  \n",
              "3            0.648586               -1.310927        0.224077    -0.426757  \n",
              "4            0.648586               -1.310927        0.224077    -0.426757  "
            ],
            "text/html": [
              "\n",
              "  <div id=\"df-99179dce-1d99-4ad1-b992-e131ab49b771\">\n",
              "    <div class=\"colab-df-container\">\n",
              "      <div>\n",
              "<style scoped>\n",
              "    .dataframe tbody tr th:only-of-type {\n",
              "        vertical-align: middle;\n",
              "    }\n",
              "\n",
              "    .dataframe tbody tr th {\n",
              "        vertical-align: top;\n",
              "    }\n",
              "\n",
              "    .dataframe thead th {\n",
              "        text-align: right;\n",
              "    }\n",
              "</style>\n",
              "<table border=\"1\" class=\"dataframe\">\n",
              "  <thead>\n",
              "    <tr style=\"text-align: right;\">\n",
              "      <th></th>\n",
              "      <th>schoolid</th>\n",
              "      <th>intervention</th>\n",
              "      <th>achievement_score</th>\n",
              "      <th>success_expect</th>\n",
              "      <th>ethnicity</th>\n",
              "      <th>gender</th>\n",
              "      <th>frst_in_family</th>\n",
              "      <th>school_urbanicity</th>\n",
              "      <th>school_mindset</th>\n",
              "      <th>school_achievement</th>\n",
              "      <th>school_ethnic_minority</th>\n",
              "      <th>school_poverty</th>\n",
              "      <th>school_size</th>\n",
              "    </tr>\n",
              "  </thead>\n",
              "  <tbody>\n",
              "    <tr>\n",
              "      <th>0</th>\n",
              "      <td>76</td>\n",
              "      <td>1</td>\n",
              "      <td>0.277359</td>\n",
              "      <td>6</td>\n",
              "      <td>4</td>\n",
              "      <td>2</td>\n",
              "      <td>1</td>\n",
              "      <td>4</td>\n",
              "      <td>0.334544</td>\n",
              "      <td>0.648586</td>\n",
              "      <td>-1.310927</td>\n",
              "      <td>0.224077</td>\n",
              "      <td>-0.426757</td>\n",
              "    </tr>\n",
              "    <tr>\n",
              "      <th>1</th>\n",
              "      <td>76</td>\n",
              "      <td>1</td>\n",
              "      <td>-0.449646</td>\n",
              "      <td>4</td>\n",
              "      <td>12</td>\n",
              "      <td>2</td>\n",
              "      <td>1</td>\n",
              "      <td>4</td>\n",
              "      <td>0.334544</td>\n",
              "      <td>0.648586</td>\n",
              "      <td>-1.310927</td>\n",
              "      <td>0.224077</td>\n",
              "      <td>-0.426757</td>\n",
              "    </tr>\n",
              "    <tr>\n",
              "      <th>2</th>\n",
              "      <td>76</td>\n",
              "      <td>1</td>\n",
              "      <td>0.769703</td>\n",
              "      <td>6</td>\n",
              "      <td>4</td>\n",
              "      <td>2</td>\n",
              "      <td>0</td>\n",
              "      <td>4</td>\n",
              "      <td>0.334544</td>\n",
              "      <td>0.648586</td>\n",
              "      <td>-1.310927</td>\n",
              "      <td>0.224077</td>\n",
              "      <td>-0.426757</td>\n",
              "    </tr>\n",
              "    <tr>\n",
              "      <th>3</th>\n",
              "      <td>76</td>\n",
              "      <td>1</td>\n",
              "      <td>-0.121763</td>\n",
              "      <td>6</td>\n",
              "      <td>4</td>\n",
              "      <td>2</td>\n",
              "      <td>0</td>\n",
              "      <td>4</td>\n",
              "      <td>0.334544</td>\n",
              "      <td>0.648586</td>\n",
              "      <td>-1.310927</td>\n",
              "      <td>0.224077</td>\n",
              "      <td>-0.426757</td>\n",
              "    </tr>\n",
              "    <tr>\n",
              "      <th>4</th>\n",
              "      <td>76</td>\n",
              "      <td>1</td>\n",
              "      <td>1.526147</td>\n",
              "      <td>6</td>\n",
              "      <td>4</td>\n",
              "      <td>1</td>\n",
              "      <td>0</td>\n",
              "      <td>4</td>\n",
              "      <td>0.334544</td>\n",
              "      <td>0.648586</td>\n",
              "      <td>-1.310927</td>\n",
              "      <td>0.224077</td>\n",
              "      <td>-0.426757</td>\n",
              "    </tr>\n",
              "  </tbody>\n",
              "</table>\n",
              "</div>\n",
              "      <button class=\"colab-df-convert\" onclick=\"convertToInteractive('df-99179dce-1d99-4ad1-b992-e131ab49b771')\"\n",
              "              title=\"Convert this dataframe to an interactive table.\"\n",
              "              style=\"display:none;\">\n",
              "        \n",
              "  <svg xmlns=\"http://www.w3.org/2000/svg\" height=\"24px\"viewBox=\"0 0 24 24\"\n",
              "       width=\"24px\">\n",
              "    <path d=\"M0 0h24v24H0V0z\" fill=\"none\"/>\n",
              "    <path d=\"M18.56 5.44l.94 2.06.94-2.06 2.06-.94-2.06-.94-.94-2.06-.94 2.06-2.06.94zm-11 1L8.5 8.5l.94-2.06 2.06-.94-2.06-.94L8.5 2.5l-.94 2.06-2.06.94zm10 10l.94 2.06.94-2.06 2.06-.94-2.06-.94-.94-2.06-.94 2.06-2.06.94z\"/><path d=\"M17.41 7.96l-1.37-1.37c-.4-.4-.92-.59-1.43-.59-.52 0-1.04.2-1.43.59L10.3 9.45l-7.72 7.72c-.78.78-.78 2.05 0 2.83L4 21.41c.39.39.9.59 1.41.59.51 0 1.02-.2 1.41-.59l7.78-7.78 2.81-2.81c.8-.78.8-2.07 0-2.86zM5.41 20L4 18.59l7.72-7.72 1.47 1.35L5.41 20z\"/>\n",
              "  </svg>\n",
              "      </button>\n",
              "      \n",
              "  <style>\n",
              "    .colab-df-container {\n",
              "      display:flex;\n",
              "      flex-wrap:wrap;\n",
              "      gap: 12px;\n",
              "    }\n",
              "\n",
              "    .colab-df-convert {\n",
              "      background-color: #E8F0FE;\n",
              "      border: none;\n",
              "      border-radius: 50%;\n",
              "      cursor: pointer;\n",
              "      display: none;\n",
              "      fill: #1967D2;\n",
              "      height: 32px;\n",
              "      padding: 0 0 0 0;\n",
              "      width: 32px;\n",
              "    }\n",
              "\n",
              "    .colab-df-convert:hover {\n",
              "      background-color: #E2EBFA;\n",
              "      box-shadow: 0px 1px 2px rgba(60, 64, 67, 0.3), 0px 1px 3px 1px rgba(60, 64, 67, 0.15);\n",
              "      fill: #174EA6;\n",
              "    }\n",
              "\n",
              "    [theme=dark] .colab-df-convert {\n",
              "      background-color: #3B4455;\n",
              "      fill: #D2E3FC;\n",
              "    }\n",
              "\n",
              "    [theme=dark] .colab-df-convert:hover {\n",
              "      background-color: #434B5C;\n",
              "      box-shadow: 0px 1px 3px 1px rgba(0, 0, 0, 0.15);\n",
              "      filter: drop-shadow(0px 1px 2px rgba(0, 0, 0, 0.3));\n",
              "      fill: #FFFFFF;\n",
              "    }\n",
              "  </style>\n",
              "\n",
              "      <script>\n",
              "        const buttonEl =\n",
              "          document.querySelector('#df-99179dce-1d99-4ad1-b992-e131ab49b771 button.colab-df-convert');\n",
              "        buttonEl.style.display =\n",
              "          google.colab.kernel.accessAllowed ? 'block' : 'none';\n",
              "\n",
              "        async function convertToInteractive(key) {\n",
              "          const element = document.querySelector('#df-99179dce-1d99-4ad1-b992-e131ab49b771');\n",
              "          const dataTable =\n",
              "            await google.colab.kernel.invokeFunction('convertToInteractive',\n",
              "                                                     [key], {});\n",
              "          if (!dataTable) return;\n",
              "\n",
              "          const docLinkHtml = 'Like what you see? Visit the ' +\n",
              "            '<a target=\"_blank\" href=https://colab.research.google.com/notebooks/data_table.ipynb>data table notebook</a>'\n",
              "            + ' to learn more about interactive tables.';\n",
              "          element.innerHTML = '';\n",
              "          dataTable['output_type'] = 'display_data';\n",
              "          await google.colab.output.renderOutput(dataTable, element);\n",
              "          const docLink = document.createElement('div');\n",
              "          docLink.innerHTML = docLinkHtml;\n",
              "          element.appendChild(docLink);\n",
              "        }\n",
              "      </script>\n",
              "    </div>\n",
              "  </div>\n",
              "  "
            ]
          },
          "metadata": {},
          "execution_count": 5
        }
      ]
    },
    {
      "cell_type": "code",
      "source": [
        "df.info()"
      ],
      "metadata": {
        "colab": {
          "base_uri": "https://localhost:8080/"
        },
        "id": "OJZ7U327y681",
        "outputId": "5387dbf0-3af1-4f83-92b5-efebf0f7ca75"
      },
      "execution_count": 6,
      "outputs": [
        {
          "output_type": "stream",
          "name": "stdout",
          "text": [
            "<class 'pandas.core.frame.DataFrame'>\n",
            "RangeIndex: 10391 entries, 0 to 10390\n",
            "Data columns (total 13 columns):\n",
            " #   Column                  Non-Null Count  Dtype  \n",
            "---  ------                  --------------  -----  \n",
            " 0   schoolid                10391 non-null  int64  \n",
            " 1   intervention            10391 non-null  int64  \n",
            " 2   achievement_score       10391 non-null  float64\n",
            " 3   success_expect          10391 non-null  int64  \n",
            " 4   ethnicity               10391 non-null  int64  \n",
            " 5   gender                  10391 non-null  int64  \n",
            " 6   frst_in_family          10391 non-null  int64  \n",
            " 7   school_urbanicity       10391 non-null  int64  \n",
            " 8   school_mindset          10391 non-null  float64\n",
            " 9   school_achievement      10391 non-null  float64\n",
            " 10  school_ethnic_minority  10391 non-null  float64\n",
            " 11  school_poverty          10391 non-null  float64\n",
            " 12  school_size             10391 non-null  float64\n",
            "dtypes: float64(6), int64(7)\n",
            "memory usage: 1.0 MB\n"
          ]
        }
      ]
    },
    {
      "cell_type": "code",
      "source": [
        "# outcome\n",
        "Y = \"school_achievement\"\n",
        "# treatment\n",
        "T = \"intervention\"\n",
        "# covariates\n",
        "X = [\"school_urbanicity\", \"school_mindset\", \"success_expect\" , \"school_ethnic_minority\" , \"school_poverty\" , \"school_size\" , \"frst_in_family\" ]"
      ],
      "metadata": {
        "id": "_ICgSA4C3Ulg"
      },
      "execution_count": 7,
      "outputs": []
    },
    {
      "cell_type": "code",
      "source": [
        "df[Y]"
      ],
      "metadata": {
        "colab": {
          "base_uri": "https://localhost:8080/"
        },
        "id": "VR_HWVWN4jiO",
        "outputId": "b280180f-f3e8-4f50-bf7f-aba303d723fd"
      },
      "execution_count": 8,
      "outputs": [
        {
          "output_type": "execute_result",
          "data": {
            "text/plain": [
              "0        0.648586\n",
              "1        0.648586\n",
              "2        0.648586\n",
              "3        0.648586\n",
              "4        0.648586\n",
              "           ...   \n",
              "10386   -1.129889\n",
              "10387   -1.129889\n",
              "10388   -1.129889\n",
              "10389   -1.129889\n",
              "10390   -1.129889\n",
              "Name: school_achievement, Length: 10391, dtype: float64"
            ]
          },
          "metadata": {},
          "execution_count": 8
        }
      ]
    },
    {
      "cell_type": "code",
      "source": [
        "df[T]"
      ],
      "metadata": {
        "colab": {
          "base_uri": "https://localhost:8080/"
        },
        "id": "LU9KGXYS5cPe",
        "outputId": "85b3b690-8028-43d9-b83b-43fb8a79553c"
      },
      "execution_count": 9,
      "outputs": [
        {
          "output_type": "execute_result",
          "data": {
            "text/plain": [
              "0        1\n",
              "1        1\n",
              "2        1\n",
              "3        1\n",
              "4        1\n",
              "        ..\n",
              "10386    0\n",
              "10387    0\n",
              "10388    0\n",
              "10389    0\n",
              "10390    0\n",
              "Name: intervention, Length: 10391, dtype: int64"
            ]
          },
          "metadata": {},
          "execution_count": 9
        }
      ]
    },
    {
      "cell_type": "code",
      "source": [
        "df[X]"
      ],
      "metadata": {
        "colab": {
          "base_uri": "https://localhost:8080/",
          "height": 487
        },
        "id": "HN9C6gE05je4",
        "outputId": "ae113cf9-295b-4aa3-c96c-5f65a771d3ec"
      },
      "execution_count": 10,
      "outputs": [
        {
          "output_type": "execute_result",
          "data": {
            "text/plain": [
              "       school_urbanicity  school_mindset  success_expect  \\\n",
              "0                      4        0.334544               6   \n",
              "1                      4        0.334544               4   \n",
              "2                      4        0.334544               6   \n",
              "3                      4        0.334544               6   \n",
              "4                      4        0.334544               6   \n",
              "...                  ...             ...             ...   \n",
              "10386                  3        1.185986               7   \n",
              "10387                  3        1.185986               7   \n",
              "10388                  3        1.185986               2   \n",
              "10389                  3        1.185986               5   \n",
              "10390                  3        1.185986               5   \n",
              "\n",
              "       school_ethnic_minority  school_poverty  school_size  frst_in_family  \n",
              "0                   -1.310927        0.224077    -0.426757               1  \n",
              "1                   -1.310927        0.224077    -0.426757               1  \n",
              "2                   -1.310927        0.224077    -0.426757               0  \n",
              "3                   -1.310927        0.224077    -0.426757               0  \n",
              "4                   -1.310927        0.224077    -0.426757               0  \n",
              "...                       ...             ...          ...             ...  \n",
              "10386                1.009875        1.005063    -1.174702               1  \n",
              "10387                1.009875        1.005063    -1.174702               1  \n",
              "10388                1.009875        1.005063    -1.174702               1  \n",
              "10389                1.009875        1.005063    -1.174702               1  \n",
              "10390                1.009875        1.005063    -1.174702               1  \n",
              "\n",
              "[10391 rows x 7 columns]"
            ],
            "text/html": [
              "\n",
              "  <div id=\"df-09f51b0f-0369-4d05-897f-cb8e9f522d2b\">\n",
              "    <div class=\"colab-df-container\">\n",
              "      <div>\n",
              "<style scoped>\n",
              "    .dataframe tbody tr th:only-of-type {\n",
              "        vertical-align: middle;\n",
              "    }\n",
              "\n",
              "    .dataframe tbody tr th {\n",
              "        vertical-align: top;\n",
              "    }\n",
              "\n",
              "    .dataframe thead th {\n",
              "        text-align: right;\n",
              "    }\n",
              "</style>\n",
              "<table border=\"1\" class=\"dataframe\">\n",
              "  <thead>\n",
              "    <tr style=\"text-align: right;\">\n",
              "      <th></th>\n",
              "      <th>school_urbanicity</th>\n",
              "      <th>school_mindset</th>\n",
              "      <th>success_expect</th>\n",
              "      <th>school_ethnic_minority</th>\n",
              "      <th>school_poverty</th>\n",
              "      <th>school_size</th>\n",
              "      <th>frst_in_family</th>\n",
              "    </tr>\n",
              "  </thead>\n",
              "  <tbody>\n",
              "    <tr>\n",
              "      <th>0</th>\n",
              "      <td>4</td>\n",
              "      <td>0.334544</td>\n",
              "      <td>6</td>\n",
              "      <td>-1.310927</td>\n",
              "      <td>0.224077</td>\n",
              "      <td>-0.426757</td>\n",
              "      <td>1</td>\n",
              "    </tr>\n",
              "    <tr>\n",
              "      <th>1</th>\n",
              "      <td>4</td>\n",
              "      <td>0.334544</td>\n",
              "      <td>4</td>\n",
              "      <td>-1.310927</td>\n",
              "      <td>0.224077</td>\n",
              "      <td>-0.426757</td>\n",
              "      <td>1</td>\n",
              "    </tr>\n",
              "    <tr>\n",
              "      <th>2</th>\n",
              "      <td>4</td>\n",
              "      <td>0.334544</td>\n",
              "      <td>6</td>\n",
              "      <td>-1.310927</td>\n",
              "      <td>0.224077</td>\n",
              "      <td>-0.426757</td>\n",
              "      <td>0</td>\n",
              "    </tr>\n",
              "    <tr>\n",
              "      <th>3</th>\n",
              "      <td>4</td>\n",
              "      <td>0.334544</td>\n",
              "      <td>6</td>\n",
              "      <td>-1.310927</td>\n",
              "      <td>0.224077</td>\n",
              "      <td>-0.426757</td>\n",
              "      <td>0</td>\n",
              "    </tr>\n",
              "    <tr>\n",
              "      <th>4</th>\n",
              "      <td>4</td>\n",
              "      <td>0.334544</td>\n",
              "      <td>6</td>\n",
              "      <td>-1.310927</td>\n",
              "      <td>0.224077</td>\n",
              "      <td>-0.426757</td>\n",
              "      <td>0</td>\n",
              "    </tr>\n",
              "    <tr>\n",
              "      <th>...</th>\n",
              "      <td>...</td>\n",
              "      <td>...</td>\n",
              "      <td>...</td>\n",
              "      <td>...</td>\n",
              "      <td>...</td>\n",
              "      <td>...</td>\n",
              "      <td>...</td>\n",
              "    </tr>\n",
              "    <tr>\n",
              "      <th>10386</th>\n",
              "      <td>3</td>\n",
              "      <td>1.185986</td>\n",
              "      <td>7</td>\n",
              "      <td>1.009875</td>\n",
              "      <td>1.005063</td>\n",
              "      <td>-1.174702</td>\n",
              "      <td>1</td>\n",
              "    </tr>\n",
              "    <tr>\n",
              "      <th>10387</th>\n",
              "      <td>3</td>\n",
              "      <td>1.185986</td>\n",
              "      <td>7</td>\n",
              "      <td>1.009875</td>\n",
              "      <td>1.005063</td>\n",
              "      <td>-1.174702</td>\n",
              "      <td>1</td>\n",
              "    </tr>\n",
              "    <tr>\n",
              "      <th>10388</th>\n",
              "      <td>3</td>\n",
              "      <td>1.185986</td>\n",
              "      <td>2</td>\n",
              "      <td>1.009875</td>\n",
              "      <td>1.005063</td>\n",
              "      <td>-1.174702</td>\n",
              "      <td>1</td>\n",
              "    </tr>\n",
              "    <tr>\n",
              "      <th>10389</th>\n",
              "      <td>3</td>\n",
              "      <td>1.185986</td>\n",
              "      <td>5</td>\n",
              "      <td>1.009875</td>\n",
              "      <td>1.005063</td>\n",
              "      <td>-1.174702</td>\n",
              "      <td>1</td>\n",
              "    </tr>\n",
              "    <tr>\n",
              "      <th>10390</th>\n",
              "      <td>3</td>\n",
              "      <td>1.185986</td>\n",
              "      <td>5</td>\n",
              "      <td>1.009875</td>\n",
              "      <td>1.005063</td>\n",
              "      <td>-1.174702</td>\n",
              "      <td>1</td>\n",
              "    </tr>\n",
              "  </tbody>\n",
              "</table>\n",
              "<p>10391 rows × 7 columns</p>\n",
              "</div>\n",
              "      <button class=\"colab-df-convert\" onclick=\"convertToInteractive('df-09f51b0f-0369-4d05-897f-cb8e9f522d2b')\"\n",
              "              title=\"Convert this dataframe to an interactive table.\"\n",
              "              style=\"display:none;\">\n",
              "        \n",
              "  <svg xmlns=\"http://www.w3.org/2000/svg\" height=\"24px\"viewBox=\"0 0 24 24\"\n",
              "       width=\"24px\">\n",
              "    <path d=\"M0 0h24v24H0V0z\" fill=\"none\"/>\n",
              "    <path d=\"M18.56 5.44l.94 2.06.94-2.06 2.06-.94-2.06-.94-.94-2.06-.94 2.06-2.06.94zm-11 1L8.5 8.5l.94-2.06 2.06-.94-2.06-.94L8.5 2.5l-.94 2.06-2.06.94zm10 10l.94 2.06.94-2.06 2.06-.94-2.06-.94-.94-2.06-.94 2.06-2.06.94z\"/><path d=\"M17.41 7.96l-1.37-1.37c-.4-.4-.92-.59-1.43-.59-.52 0-1.04.2-1.43.59L10.3 9.45l-7.72 7.72c-.78.78-.78 2.05 0 2.83L4 21.41c.39.39.9.59 1.41.59.51 0 1.02-.2 1.41-.59l7.78-7.78 2.81-2.81c.8-.78.8-2.07 0-2.86zM5.41 20L4 18.59l7.72-7.72 1.47 1.35L5.41 20z\"/>\n",
              "  </svg>\n",
              "      </button>\n",
              "      \n",
              "  <style>\n",
              "    .colab-df-container {\n",
              "      display:flex;\n",
              "      flex-wrap:wrap;\n",
              "      gap: 12px;\n",
              "    }\n",
              "\n",
              "    .colab-df-convert {\n",
              "      background-color: #E8F0FE;\n",
              "      border: none;\n",
              "      border-radius: 50%;\n",
              "      cursor: pointer;\n",
              "      display: none;\n",
              "      fill: #1967D2;\n",
              "      height: 32px;\n",
              "      padding: 0 0 0 0;\n",
              "      width: 32px;\n",
              "    }\n",
              "\n",
              "    .colab-df-convert:hover {\n",
              "      background-color: #E2EBFA;\n",
              "      box-shadow: 0px 1px 2px rgba(60, 64, 67, 0.3), 0px 1px 3px 1px rgba(60, 64, 67, 0.15);\n",
              "      fill: #174EA6;\n",
              "    }\n",
              "\n",
              "    [theme=dark] .colab-df-convert {\n",
              "      background-color: #3B4455;\n",
              "      fill: #D2E3FC;\n",
              "    }\n",
              "\n",
              "    [theme=dark] .colab-df-convert:hover {\n",
              "      background-color: #434B5C;\n",
              "      box-shadow: 0px 1px 3px 1px rgba(0, 0, 0, 0.15);\n",
              "      filter: drop-shadow(0px 1px 2px rgba(0, 0, 0, 0.3));\n",
              "      fill: #FFFFFF;\n",
              "    }\n",
              "  </style>\n",
              "\n",
              "      <script>\n",
              "        const buttonEl =\n",
              "          document.querySelector('#df-09f51b0f-0369-4d05-897f-cb8e9f522d2b button.colab-df-convert');\n",
              "        buttonEl.style.display =\n",
              "          google.colab.kernel.accessAllowed ? 'block' : 'none';\n",
              "\n",
              "        async function convertToInteractive(key) {\n",
              "          const element = document.querySelector('#df-09f51b0f-0369-4d05-897f-cb8e9f522d2b');\n",
              "          const dataTable =\n",
              "            await google.colab.kernel.invokeFunction('convertToInteractive',\n",
              "                                                     [key], {});\n",
              "          if (!dataTable) return;\n",
              "\n",
              "          const docLinkHtml = 'Like what you see? Visit the ' +\n",
              "            '<a target=\"_blank\" href=https://colab.research.google.com/notebooks/data_table.ipynb>data table notebook</a>'\n",
              "            + ' to learn more about interactive tables.';\n",
              "          element.innerHTML = '';\n",
              "          dataTable['output_type'] = 'display_data';\n",
              "          await google.colab.output.renderOutput(dataTable, element);\n",
              "          const docLink = document.createElement('div');\n",
              "          docLink.innerHTML = docLinkHtml;\n",
              "          element.appendChild(docLink);\n",
              "        }\n",
              "      </script>\n",
              "    </div>\n",
              "  </div>\n",
              "  "
            ]
          },
          "metadata": {},
          "execution_count": 10
        }
      ]
    },
    {
      "cell_type": "code",
      "source": [
        "# define DML Object\n",
        "dml_est = DML(\n",
        "    model_y = GradientBoostingRegressor(n_estimators=100, random_state = 1000),\n",
        "    model_t = GradientBoostingRegressor(n_estimators=100, random_state = 1000),\n",
        "    model_final = LinearRegression(fit_intercept=False),\n",
        "    random_state = 1000\n",
        ")"
      ],
      "metadata": {
        "id": "0OOv178_5wJB"
      },
      "execution_count": 11,
      "outputs": []
    },
    {
      "cell_type": "code",
      "source": [
        "# fit estimator to train data\n",
        "np.random.seed(1000)\n",
        "dml_est.fit(df[Y], T = df[T], X = df[X], inference=\"bootstrap\")"
      ],
      "metadata": {
        "colab": {
          "base_uri": "https://localhost:8080/"
        },
        "id": "gIvSPRJW53hW",
        "outputId": "408cc6ab-286b-4ed6-b786-10c9406a4d26"
      },
      "execution_count": 12,
      "outputs": [
        {
          "output_type": "execute_result",
          "data": {
            "text/plain": [
              "<econml.dml.dml.DML at 0x7f8b086ec610>"
            ]
          },
          "metadata": {},
          "execution_count": 12
        }
      ]
    },
    {
      "cell_type": "code",
      "source": [
        "dml_est.summary()"
      ],
      "metadata": {
        "colab": {
          "base_uri": "https://localhost:8080/",
          "height": 427
        },
        "id": "UPeDN4gh6jNQ",
        "outputId": "95fb59b2-594e-40ba-c004-ff2d8082ad4c"
      },
      "execution_count": 13,
      "outputs": [
        {
          "output_type": "execute_result",
          "data": {
            "text/plain": [
              "<class 'econml.utilities.Summary'>\n",
              "\"\"\"\n",
              "                            Coefficient Results                             \n",
              "============================================================================\n",
              "                       point_estimate stderr zstat  pvalue ci_lower ci_upper\n",
              "----------------------------------------------------------------------------\n",
              "school_urbanicity               0.001  0.001  0.637   0.18   -0.001    0.003\n",
              "school_mindset                  0.001  0.002    0.7   0.09   -0.001    0.005\n",
              "success_expect                   -0.0  0.002 -0.119   0.38   -0.004    0.003\n",
              "school_ethnic_minority            0.0  0.001  0.159   0.36   -0.002    0.003\n",
              "school_poverty                 -0.002  0.002  -0.99   0.05   -0.006    0.001\n",
              "school_size                     0.002  0.002  1.133   0.05     -0.0    0.006\n",
              "frst_in_family                 -0.002  0.004 -0.379    0.3   -0.009    0.007\n",
              "                       CATE Intercept Results                       \n",
              "====================================================================\n",
              "               point_estimate stderr zstat  pvalue ci_lower ci_upper\n",
              "--------------------------------------------------------------------\n",
              "cate_intercept         -0.001  0.009 -0.141   0.41   -0.019     0.02\n",
              "--------------------------------------------------------------------\n",
              "\n",
              "<sub>A linear parametric conditional average treatment effect (CATE) model was fitted:\n",
              "$Y = \\Theta(X)\\cdot T + g(X, W) + \\epsilon$\n",
              "where for every outcome $i$ and treatment $j$ the CATE $\\Theta_{ij}(X)$ has the form:\n",
              "$\\Theta_{ij}(X) = \\phi(X)' coef_{ij} + cate\\_intercept_{ij}$\n",
              "where $\\phi(X)$ is the output of the `featurizer` or $X$ if `featurizer`=None. Coefficient Results table portrays the $coef_{ij}$ parameter vector for each outcome $i$ and treatment $j$. Intercept Results table portrays the $cate\\_intercept_{ij}$ parameter.</sub>\n",
              "\"\"\""
            ],
            "text/html": [
              "<table class=\"simpletable\">\n",
              "<caption>Coefficient Results</caption>\n",
              "<tr>\n",
              "             <td></td>            <th>point_estimate</th> <th>stderr</th>  <th>zstat</th> <th>pvalue</th> <th>ci_lower</th> <th>ci_upper</th>\n",
              "</tr>\n",
              "<tr>\n",
              "  <th>school_urbanicity</th>           <td>0.001</td>      <td>0.001</td>  <td>0.637</td>  <td>0.18</td>   <td>-0.001</td>    <td>0.003</td> \n",
              "</tr>\n",
              "<tr>\n",
              "  <th>school_mindset</th>              <td>0.001</td>      <td>0.002</td>   <td>0.7</td>   <td>0.09</td>   <td>-0.001</td>    <td>0.005</td> \n",
              "</tr>\n",
              "<tr>\n",
              "  <th>success_expect</th>              <td>-0.0</td>       <td>0.002</td> <td>-0.119</td>  <td>0.38</td>   <td>-0.004</td>    <td>0.003</td> \n",
              "</tr>\n",
              "<tr>\n",
              "  <th>school_ethnic_minority</th>       <td>0.0</td>       <td>0.001</td>  <td>0.159</td>  <td>0.36</td>   <td>-0.002</td>    <td>0.003</td> \n",
              "</tr>\n",
              "<tr>\n",
              "  <th>school_poverty</th>             <td>-0.002</td>      <td>0.002</td>  <td>-0.99</td>  <td>0.05</td>   <td>-0.006</td>    <td>0.001</td> \n",
              "</tr>\n",
              "<tr>\n",
              "  <th>school_size</th>                 <td>0.002</td>      <td>0.002</td>  <td>1.133</td>  <td>0.05</td>    <td>-0.0</td>     <td>0.006</td> \n",
              "</tr>\n",
              "<tr>\n",
              "  <th>frst_in_family</th>             <td>-0.002</td>      <td>0.004</td> <td>-0.379</td>   <td>0.3</td>   <td>-0.009</td>    <td>0.007</td> \n",
              "</tr>\n",
              "</table>\n",
              "<table class=\"simpletable\">\n",
              "<caption>CATE Intercept Results</caption>\n",
              "<tr>\n",
              "         <td></td>        <th>point_estimate</th> <th>stderr</th>  <th>zstat</th> <th>pvalue</th> <th>ci_lower</th> <th>ci_upper</th>\n",
              "</tr>\n",
              "<tr>\n",
              "  <th>cate_intercept</th>     <td>-0.001</td>      <td>0.009</td> <td>-0.141</td>  <td>0.41</td>   <td>-0.019</td>    <td>0.02</td>  \n",
              "</tr>\n",
              "</table><br/><br/><sub>A linear parametric conditional average treatment effect (CATE) model was fitted:<br/>$Y = \\Theta(X)\\cdot T + g(X, W) + \\epsilon$<br/>where for every outcome $i$ and treatment $j$ the CATE $\\Theta_{ij}(X)$ has the form:<br/>$\\Theta_{ij}(X) = \\phi(X)' coef_{ij} + cate\\_intercept_{ij}$<br/>where $\\phi(X)$ is the output of the `featurizer` or $X$ if `featurizer`=None. Coefficient Results table portrays the $coef_{ij}$ parameter vector for each outcome $i$ and treatment $j$. Intercept Results table portrays the $cate\\_intercept_{ij}$ parameter.</sub>"
            ]
          },
          "metadata": {},
          "execution_count": 13
        }
      ]
    },
    {
      "cell_type": "code",
      "source": [
        "# Get treatment effect and its confidence interval\n",
        "te_pred = dml_est.effect(df[X])"
      ],
      "metadata": {
        "id": "63C-TysS6-4m"
      },
      "execution_count": 14,
      "outputs": []
    },
    {
      "cell_type": "code",
      "source": [
        "# Measure price effect\n",
        "np.mean(te_pred)"
      ],
      "metadata": {
        "colab": {
          "base_uri": "https://localhost:8080/",
          "height": 37
        },
        "id": "hfx0xcfb7Qo9",
        "outputId": "592bdaa1-d6a0-48ed-eecb-e356ff25eaee"
      },
      "execution_count": 15,
      "outputs": [
        {
          "output_type": "execute_result",
          "data": {
            "text/plain": [
              "-0.0016012886764512574"
            ],
            "image/png": "[encoded data removed]",
            "text/latex": "$\\displaystyle -0.00160128867645126$"
          },
          "metadata": {},
          "execution_count": 15
        }
      ]
    },
    {
      "cell_type": "code",
      "source": [
        "# check treatment effect distribution\n",
        "sns.boxplot(x = te_pred).set_title(\"Treatment Effect Distribution by using DML\");"
      ],
      "metadata": {
        "colab": {
          "base_uri": "https://localhost:8080/",
          "height": 281
        },
        "id": "cUBRV5ky7Vxh",
        "outputId": "07ca7799-16c6-4bf3-9eb9-e54d8aacbad1"
      },
      "execution_count": 16,
      "outputs": [
        {
          "output_type": "display_data",
          "data": {
            "text/plain": [
              "<Figure size 432x288 with 1 Axes>"
            ],
            "image/png": "[encoded data removed]"
          },
          "metadata": {
            "needs_background": "light"
          }
        }
      ]
    },
    {
      "cell_type": "markdown",
      "source": [
        "# Summary \n",
        "\n",
        "Dari pernyataan \"Bahwa mengajarkan growth mindset pada mereka akan meningkatkan prestasi akademis. Dua grup dibentuk dimana satu grup diberikan seminar tentang growth mindset sedangkan yang lainnya tidak. Selanjutnya akan diukur bagaimana prestasi mereka secara akademik\". Dengan variable-variable yang telah di berikan dan telah dilakukan penelitian eksperimen acak yang dilakukan ke siswa SMA di seluruh Amerika Serikat untuk membuktikan hal tersebut. \n",
        "\n",
        "Maka dari data yang di berikan tersebut bisa di tarik kesimpulan bahwa variable yang menjadi outcome ialah \"School Achievement\" . Sementara yang menjadi covarience adalah hal-hal yang mempengaruhi school achievement seperti:\n",
        "\n",
        "- school urbanicity\n",
        "- school_mindset\n",
        "- success expect\n",
        "- school ethnic minority\n",
        "- school poverty\n",
        "- school size\n",
        "- frst in family\n",
        "\n",
        "Dan yang menjadi variable yang akan di treatment adalah \"Intervention\"\n",
        "\n",
        "Model kali ini yang digunakan ialah Double Machine Learning untuk melihat model treatment yang digunakan akan berkelanjutan atau tidak.\n",
        "\n",
        "Dan hasil yang didapat bahwa pengaruh school mindset dan school size memiliki dampat yang signifikan positif terhadap school achievement. Sementara school poverty memiliki dampak yang signifikan negatif terhadap school achievement\n",
        "\n",
        "Sementara variabel lainnya memiliki dampak tidak signifikan terhadap school achivement.\n",
        "\n",
        "\n"
      ],
      "metadata": {
        "id": "LfpgEfkuJfI0"
      }
    }
  ]
}